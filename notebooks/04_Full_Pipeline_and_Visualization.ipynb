{
 "cells": [
  {
   "cell_type": "markdown",
   "metadata": {},
   "source": [
    "# Notebook 4: Pipeline Integrado y Visualización de Grafos Conceptuales\n",
    "\n",
    "Este es el notebook final, donde todo el trabajo se une. Utilizaremos el `IntegratedPhilosophicalAnalyzer` para ejecutar el pipeline completo con una sola llamada. Analizaremos un texto, obtendremos todas las características y una predicción de clase. Finalmente, usaremos el `VisualizationGenerator` para crear un grafo conceptual del texto, revelando la estructura de sus ideas clave."
   ]
  },
  {
   "cell_type": "code",
   "execution_count": 1,
   "metadata": {},
   "outputs": [
    {
     "name": "stdout",
     "output_type": "stream",
     "text": [
      "Downloading wordnet...\n",
      "Downloading wordnet...\n",
      "Librerías y módulos cargados correctamente.\n"
     ]
    }
   ],
   "source": [
    "import sys\n",
    "from pathlib import Path\n",
    "import pandas as pd\n",
    "import matplotlib.pyplot as plt\n",
    "import seaborn as sns\n",
    "\n",
    "# Añadir el directorio raíz del proyecto al path\n",
    "project_root = Path.cwd().parent\n",
    "sys.path.append(str(project_root))\n",
    "\n",
    "from src.philosophical_analysis.core.integrated_analyzer import IntegratedPhilosophicalAnalyzer\n",
    "from src.philosophical_analysis.visualization.generator import VisualizationGenerator\n",
    "\n",
    "sns.set_theme(style=\"whitegrid\")\n",
    "print(\"Librerías y módulos cargados correctamente.\")"
   ]
  },
  {
   "cell_type": "markdown",
   "metadata": {},
   "source": [
    "## 1. Cargar Datos y Entrenar el Analizador Integrado"
   ]
  },
  {
   "cell_type": "code",
   "execution_count": 2,
   "metadata": {},
   "outputs": [
    {
     "name": "stderr",
     "output_type": "stream",
     "text": [
      "INFO:src.philosophical_analysis.core.pos_analyzer:Advanced POS Analyzer initialized with paper specifications\n",
      "INFO:src.philosophical_analysis.core.enhanced_coherence:Enhanced Coherence Analyzer initialized with 10 components\n",
      "INFO:src.philosophical_analysis.core.convex_hull:Convex Hull Classifier initialized with features: ['first_order_coherence', 'target_determiners_freq', 'max_phrase_length', 'avg_sentence_length']\n",
      "INFO:src.philosophical_analysis.core.integrated_analyzer:IntegratedPhilosophicalAnalyzer initialized with all components.\n",
      "INFO:src.philosophical_analysis.core.integrated_analyzer:Fitting integrated analyzer on 11 texts\n",
      "INFO:src.philosophical_analysis.core.enhanced_coherence:Fitting enhanced analyzer on 11 texts\n",
      "INFO:src.philosophical_analysis.core.enhanced_coherence:Enhanced analyzer fitted with 49663 sentences.\n",
      "INFO:src.philosophical_analysis.core.integrated_analyzer:Training convex hull classifier...\n",
      "INFO:src.philosophical_analysis.core.pos_analyzer:Starting advanced POS analysis for: plato_republic\n",
      "INFO:src.philosophical_analysis.core.pos_analyzer:POS analysis completed for plato_republic\n",
      "INFO:src.philosophical_analysis.core.enhanced_coherence:Starting comprehensive coherence analysis for: plato_republic\n",
      "INFO:src.philosophical_analysis.core.enhanced_coherence:Enhanced coherence analysis completed for plato_republic\n",
      "INFO:src.philosophical_analysis.core.pos_analyzer:Starting advanced POS analysis for: aquinas_summa_theologica\n",
      "INFO:src.philosophical_analysis.core.pos_analyzer:POS analysis completed for aquinas_summa_theologica\n",
      "INFO:src.philosophical_analysis.core.enhanced_coherence:Starting comprehensive coherence analysis for: aquinas_summa_theologica\n",
      "INFO:src.philosophical_analysis.core.enhanced_coherence:Enhanced coherence analysis completed for aquinas_summa_theologica\n",
      "INFO:src.philosophical_analysis.core.pos_analyzer:Starting advanced POS analysis for: descartes_discourse_method\n",
      "INFO:src.philosophical_analysis.core.pos_analyzer:POS analysis completed for descartes_discourse_method\n",
      "INFO:src.philosophical_analysis.core.enhanced_coherence:Starting comprehensive coherence analysis for: descartes_discourse_method\n",
      "INFO:src.philosophical_analysis.core.enhanced_coherence:Enhanced coherence analysis completed for descartes_discourse_method\n",
      "INFO:src.philosophical_analysis.core.pos_analyzer:Starting advanced POS analysis for: nietzsche_beyond_good_evil\n",
      "INFO:src.philosophical_analysis.core.pos_analyzer:POS analysis completed for nietzsche_beyond_good_evil\n",
      "INFO:src.philosophical_analysis.core.enhanced_coherence:Starting comprehensive coherence analysis for: nietzsche_beyond_good_evil\n",
      "INFO:src.philosophical_analysis.core.enhanced_coherence:Enhanced coherence analysis completed for nietzsche_beyond_good_evil\n",
      "INFO:src.philosophical_analysis.core.pos_analyzer:Starting advanced POS analysis for: aristotle_nicomachean_ethics\n",
      "INFO:src.philosophical_analysis.core.pos_analyzer:POS analysis completed for aristotle_nicomachean_ethics\n",
      "INFO:src.philosophical_analysis.core.enhanced_coherence:Starting comprehensive coherence analysis for: aristotle_nicomachean_ethics\n",
      "INFO:src.philosophical_analysis.core.enhanced_coherence:Enhanced coherence analysis completed for aristotle_nicomachean_ethics\n",
      "INFO:src.philosophical_analysis.core.pos_analyzer:Starting advanced POS analysis for: descartes_meditations\n",
      "INFO:src.philosophical_analysis.core.pos_analyzer:POS analysis completed for descartes_meditations\n",
      "INFO:src.philosophical_analysis.core.enhanced_coherence:Starting comprehensive coherence analysis for: descartes_meditations\n",
      "INFO:src.philosophical_analysis.core.enhanced_coherence:Enhanced coherence analysis completed for descartes_meditations\n",
      "INFO:src.philosophical_analysis.core.pos_analyzer:Starting advanced POS analysis for: plato_apology\n",
      "INFO:src.philosophical_analysis.core.pos_analyzer:POS analysis completed for plato_apology\n",
      "INFO:src.philosophical_analysis.core.enhanced_coherence:Starting comprehensive coherence analysis for: plato_apology\n",
      "INFO:src.philosophical_analysis.core.enhanced_coherence:Enhanced coherence analysis completed for plato_apology\n",
      "INFO:src.philosophical_analysis.core.pos_analyzer:Starting advanced POS analysis for: james_pragmatism\n",
      "INFO:src.philosophical_analysis.core.pos_analyzer:POS analysis completed for james_pragmatism\n",
      "INFO:src.philosophical_analysis.core.enhanced_coherence:Starting comprehensive coherence analysis for: james_pragmatism\n",
      "INFO:src.philosophical_analysis.core.enhanced_coherence:Enhanced coherence analysis completed for james_pragmatism\n",
      "INFO:src.philosophical_analysis.core.pos_analyzer:Starting advanced POS analysis for: hume_human_understanding\n",
      "INFO:src.philosophical_analysis.core.pos_analyzer:POS analysis completed for hume_human_understanding\n",
      "INFO:src.philosophical_analysis.core.enhanced_coherence:Starting comprehensive coherence analysis for: hume_human_understanding\n",
      "INFO:src.philosophical_analysis.core.enhanced_coherence:Enhanced coherence analysis completed for hume_human_understanding\n",
      "INFO:src.philosophical_analysis.core.pos_analyzer:Starting advanced POS analysis for: kant_critique_pure_reason\n",
      "INFO:src.philosophical_analysis.core.pos_analyzer:POS analysis completed for kant_critique_pure_reason\n",
      "INFO:src.philosophical_analysis.core.enhanced_coherence:Starting comprehensive coherence analysis for: kant_critique_pure_reason\n",
      "INFO:src.philosophical_analysis.core.enhanced_coherence:Enhanced coherence analysis completed for kant_critique_pure_reason\n",
      "INFO:src.philosophical_analysis.core.pos_analyzer:Starting advanced POS analysis for: maimonides_guide_perplexed\n",
      "INFO:src.philosophical_analysis.core.pos_analyzer:POS analysis completed for maimonides_guide_perplexed\n",
      "INFO:src.philosophical_analysis.core.enhanced_coherence:Starting comprehensive coherence analysis for: maimonides_guide_perplexed\n",
      "INFO:src.philosophical_analysis.core.enhanced_coherence:Enhanced coherence analysis completed for maimonides_guide_perplexed\n",
      "INFO:src.philosophical_analysis.core.convex_hull:Fitting convex hull classifier on 11 samples\n",
      "INFO:src.philosophical_analysis.core.convex_hull:Convex hull classifier fitted successfully\n",
      "INFO:src.philosophical_analysis.core.integrated_analyzer:Classifier fitted with 4 features\n",
      "INFO:src.philosophical_analysis.core.integrated_analyzer:Integrated analyzer fitted successfully\n"
     ]
    },
    {
     "name": "stdout",
     "output_type": "stream",
     "text": [
      "Analizador integrado entrenado con éxito.\n"
     ]
    }
   ],
   "source": [
    "# Cargar textos\n",
    "data_path = project_root / \"data\" / \"raw\"\n",
    "texts = {file_path.stem.replace(\"_style\", \"\").capitalize(): file_path.read_text(encoding='utf-8') for file_path in data_path.glob(\"*.txt\")}\n",
    "texts_dict = {name.lower(): content for name, content in texts.items()}\n",
    "\n",
    "# Crear etiquetas (los filósofos mismos)\n",
    "labels = {name.lower(): name for name in texts.keys()}\n",
    "\n",
    "# Inicializar y entrenar el analizador integrado\n",
    "analyzer = IntegratedPhilosophicalAnalyzer()\n",
    "analyzer.fit(texts_dict, labels)\n",
    "\n",
    "print(\"Analizador integrado entrenado con éxito.\")"
   ]
  },
  {
   "cell_type": "markdown",
   "metadata": {},
   "source": [
    "## 2. Analizar un Texto Nuevo de Extremo a Extremo"
   ]
  },
  {
   "cell_type": "code",
   "execution_count": 9,
   "metadata": {},
   "outputs": [],
   "source": [
    "# Tomemos el texto de Nietzsche como ejemplo de texto \"no visto\" por el clasificador durante el fit\n",
    "# (Aunque sí fue visto por el modelo de coherencia, lo cual es correcto)\n",
    "nietzsche_text = texts.get('Nietzsche')\n",
    "\n",
    "if nietzsche_text:\n",
    "    analysis_result = analyzer.analyze_text(nietzsche_text, text_id='nietzsche_test')\n",
    "    \n",
    "    print(\"Resultados del análisis completo para Nietzsche:\")\n",
    "    # Imprimir la etiqueta predicha y algunas características clave\n",
    "    print(f\"  - Etiqueta Predicha: {analysis_result.get('predicted_label', 'N/A')}\")\n",
    "    print(f\"  - Confianza de la Predicción: {analysis_result.get('prediction_confidence', 0.0):.4f}\")\n",
    "    print(f\"  - Coherencia de 1er Orden: {analysis_result.get('first_order_coherence', 0.0):.4f}\")\n",
    "    print(f\"  - Frecuencia de Determinantes: {analysis_result.get('target_determiners_freq', 0.0):.4f}\")"
   ]
  },
  {
   "cell_type": "markdown",
   "metadata": {},
   "source": [
    "## 3. Generar y Visualizar el Grafo Conceptual"
   ]
  },
  {
   "cell_type": "code",
   "execution_count": 7,
   "metadata": {},
   "outputs": [
    {
     "name": "stderr",
     "output_type": "stream",
     "text": [
      "INFO:src.philosophical_analysis.visualization.generator:Visualization Generator initialized. Output: reports/visualizations\n"
     ]
    }
   ],
   "source": [
    "# Inicializar el generador de visualizaciones\n",
    "viz_generator = VisualizationGenerator()\n",
    "\n",
    "# Generar el grafo para el texto de Kant\n",
    "kant_text = texts.get('Kant')\n",
    "if kant_text:\n",
    "    print(\"Generando grafo conceptual para Kant...\")\n",
    "    graph_html = viz_generator.create_concept_graph_for_text(kant_text, \"Kant's Conceptual Graph\")\n",
    "    \n",
    "    # Guardar el grafo en un fichero HTML\n",
    "    output_path = project_root / \"notebooks\" / \"kant_concept_graph.html\"\n",
    "    with open(output_path, 'w', encoding='utf-8') as f:\n",
    "        f.write(graph_html)\n",
    "        \n",
    "    print(f\"Grafo guardado en: {output_path}\")\n",
    "    print(\"Puedes abrir este fichero en tu navegador para ver la visualización interactiva.\")"
   ]
  },
  {
   "cell_type": "markdown",
   "metadata": {},
   "source": [
    "### Visualización del Grafo (Embebido)\n",
    "A continuación, se muestra el grafo directamente en el notebook."
   ]
  },
  {
   "cell_type": "code",
   "execution_count": 8,
   "metadata": {},
   "outputs": [],
   "source": [
    "from IPython.display import HTML\n",
    "\n",
    "if 'graph_html' in locals():\n",
    "    HTML(graph_html)"
   ]
  },
  {
   "cell_type": "code",
   "execution_count": null,
   "metadata": {},
   "outputs": [],
   "source": []
  }
 ],
 "metadata": {
  "kernelspec": {
   "display_name": "Python 3 (ipykernel)",
   "language": "python",
   "name": "python3"
  },
  "language_info": {
   "codemirror_mode": {
    "name": "ipython",
    "version": 3
   },
   "file_extension": ".py",
   "mimetype": "text/x-python",
   "name": "python",
   "nbconvert_exporter": "python",
   "pygments_lexer": "ipython3",
   "version": "3.9.6"
  }
 },
 "nbformat": 4,
 "nbformat_minor": 4
}
